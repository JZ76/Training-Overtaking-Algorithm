{
  "nbformat": 4,
  "nbformat_minor": 0,
  "metadata": {
    "colab": {
      "name": "Untitled0.ipynb",
      "provenance": [],
      "collapsed_sections": [],
      "mount_file_id": "https://github.com/JZ76/f1tenth_simulator_two_agents/blob/master/simpleRNN.ipynb",
      "authorship_tag": "ABX9TyP767KI5mb06dhHAkekBTk6",
      "include_colab_link": true
    },
    "kernelspec": {
      "name": "python3",
      "display_name": "Python 3"
    },
    "language_info": {
      "name": "python"
    },
    "gpuClass": "standard"
  },
  "cells": [
    {
      "cell_type": "markdown",
      "metadata": {
        "id": "view-in-github",
        "colab_type": "text"
      },
      "source": [
        "<a href=\"https://colab.research.google.com/github/JZ76/Training-Overtaking-Algorithm/blob/main/Colab_version.ipynb\" target=\"_parent\"><img src=\"https://colab.research.google.com/assets/colab-badge.svg\" alt=\"Open In Colab\"/></a>"
      ]
    },
    {
      "cell_type": "code",
      "source": [
        "# Note: better using colab PRO, because you can have more memory, about 35GB, and longer run time duration. \n",
        "# When training the model, will take a lot of memory depends on the size of dataset, rather than need a very powerful GPU\n",
        "# you will find the training is quite slow, because SimpleRNN cannot use CUDA cores to accelerate\n",
        "# The free colab version is enough for the Australia dataset, but not enough for larger datasets.\n",
        "# One is memory limit, another is duration limit.\n",
        "\n",
        "# This code sheet should also work in Windows machine, after changing folder's path and installing correct version of libraries\n",
        "# Need A LOT OF memory, recommend 32GB memory"
      ],
      "metadata": {
        "id": "6eRVlDrbmx7c"
      },
      "execution_count": null,
      "outputs": []
    },
    {
      "cell_type": "code",
      "source": [
        "Copyright 2022 Jiancheng Zhang\n",
        "\n",
        "Licensed under the Apache License, Version 2.0 (the \"License\");\n",
        "you may not use this file except in compliance with the License.\n",
        "You may obtain a copy of the License at\n",
        "\n",
        "    http://www.apache.org/licenses/LICENSE-2.0\n",
        "\n",
        "Unless required by applicable law or agreed to in writing, software\n",
        "distributed under the License is distributed on an \"AS IS\" BASIS,\n",
        "WITHOUT WARRANTIES OR CONDITIONS OF ANY KIND, either express or implied.\n",
        "See the License for the specific language governing permissions and\n",
        "limitations under the License."
      ],
      "metadata": {
        "id": "keK9rSocIyTL"
      },
      "execution_count": null,
      "outputs": []
    },
    {
      "cell_type": "code",
      "source": [
        "# Please use numpy 1.18.5 version, otherwise will have an error. \n",
        "# Have to RESTART runtime after installed, not DELETE"
      ],
      "metadata": {
        "id": "i-pvHjwvEra0"
      },
      "execution_count": null,
      "outputs": []
    },
    {
      "cell_type": "code",
      "source": [
        "pip install -U numpy==1.18.5"
      ],
      "metadata": {
        "id": "59g-KUSOjrdR"
      },
      "execution_count": null,
      "outputs": []
    },
    {
      "cell_type": "code",
      "source": [
        "import tensorflow\n",
        "print(tensorflow.__version__)"
      ],
      "metadata": {
        "id": "HjSLPTNCItg2"
      },
      "execution_count": null,
      "outputs": []
    },
    {
      "cell_type": "code",
      "execution_count": null,
      "metadata": {
        "id": "3H6GBlaC8kVo"
      },
      "outputs": [],
      "source": [
        "import numpy as np\n",
        "import pandas as pd\n",
        "\n",
        "from tensorflow.python.keras.models import Model, load_model\n",
        "from tensorflow.python.keras.layers import LSTM, Dense, Input, CuDNNLSTM, Masking, Embedding, SimpleRNN, concatenate\n",
        "\n",
        "import os\n",
        "import re\n",
        "import gc"
      ]
    },
    {
      "cell_type": "code",
      "source": [
        "def loading_data(folder):\n",
        "\n",
        "    # use regular expression to filter files\n",
        "    # file's name start with 'ML'\n",
        "    check_name = re.compile('^ML')\n",
        "\n",
        "    datasets = []\n",
        "\n",
        "    # due to different operating system has different way in keeping files, here I would like to read files in sorted by name order and say it explicitly\n",
        "    # the reason why must sorted by name will be explained later\n",
        "    for filename in sorted(os.listdir(folder)):\n",
        "\n",
        "        files = os.path.join(folder, filename)\n",
        "\n",
        "        # check whether the name match the regular expression and actually is a file\n",
        "        if re.match(check_name, filename) and os.path.isfile(files):\n",
        "\n",
        "            # using pandas to read csv file\n",
        "            # there are only three headers: Speed, Steering_angle, LiDAR_scan. \n",
        "            # But there are 1083 columns data, which means the number of header doesn't match number of column\n",
        "            # So, we need to skip first row, and set header is None.\n",
        "            # Besides, the value in last column is all None, we have to drop column at index -1\n",
        "            temp = pd.read_csv(files, skiprows=1, header=None).iloc[:, :-1]\n",
        "\n",
        "            # Because the speed is a very large number compare to steering angle,\n",
        "            # We have to normalize it into [-1, 1], and do the same to steering angle\n",
        "            # When apply the model in the simulator, remember to product corresponding value to the output of the model\n",
        "            # index 0 is speed, index 1 is steering angle\n",
        "            temp[0] = temp[0].map(lambda t : t/16.0)\n",
        "            temp[1] = temp[1].map(lambda t : t/0.192)\n",
        "\n",
        "            # append this csv file to the result, and turn it into numpy array with float format\n",
        "            datasets.append(np.array(temp, dtype=float))\n",
        "\n",
        "    # when append data to a list, there will be a copy of old list, which took a lot of memory\n",
        "    # but there is no reference to them, so we can call the garbage collector\n",
        "    gc.collect()\n",
        "\n",
        "    # datasets is a 3D list, shape 0 is number of csv files, shape 1 is number of rows in that csv file, shape 2 is 1083\n",
        "    return datasets"
      ],
      "metadata": {
        "id": "qbyrkpPFFCFK"
      },
      "execution_count": null,
      "outputs": []
    },
    {
      "cell_type": "code",
      "source": [
        "def loading_speed_steering_data(folder):\n",
        "\n",
        "    # file's name start with 'car_state_blue'\n",
        "    check_name = re.compile('^car_state_blue')\n",
        "\n",
        "    datasets = []\n",
        "\n",
        "    # Also need to iterate in sorted by name order\n",
        "    for filename in sorted(os.listdir(folder)):\n",
        "\n",
        "        files = os.path.join(folder, filename)\n",
        "\n",
        "        if re.match(check_name, filename) and os.path.isfile(files):\n",
        "\n",
        "            # We need another two columns from car_state_blue files,\n",
        "            # one is Velocity_X, another is Steering_angle\n",
        "            datasets.append(np.array(pd.read_csv(files).iloc[:, [3, 5]], dtype=float))\n",
        "\n",
        "    gc.collect()\n",
        "    # datasets is a 3D list, shape 0 is number of csv files, shape 1 is number of rows in that csv file, shape 2 is 2\n",
        "    return datasets"
      ],
      "metadata": {
        "id": "ijuQd7Zex1W8"
      },
      "execution_count": null,
      "outputs": []
    },
    {
      "cell_type": "code",
      "source": [
        "# I made my dataset public, the link can be found in GitHub: https://github.com/JZ76/Training-Overtaking-Algorithm\n",
        "# Here, we will use google drive to store data\n",
        "# after you connect to runtime, you can mount your drive on left-hand-side, in files icon, there is a Mount Drive button on the top\n",
        "# And the drive will in path /content/drive/MyDrive/\n",
        "# replace name_of_the_datasets to the folder you want to use\n",
        "# OR, if you are using personal computer, feel free to replace the whole path\n",
        "folder = \"/content/drive/MyDrive/Australia_dataset\"\n",
        "\n",
        "# Currently, datasets contains partial input and all output, speed_steering contains partial input\n",
        "datasets = loading_data(folder)\n",
        "speed_steering = loading_speed_steering_data(folder)"
      ],
      "metadata": {
        "id": "YCJQh8HmFWmR"
      },
      "execution_count": null,
      "outputs": []
    },
    {
      "cell_type": "code",
      "source": [
        "# if you want to use part of the data, feel free to add bracket after datasets and speed_steering, like [0:100], make sure the size of sub data matches\n",
        "new_datasets = datasets\n",
        "new_speed_steering = speed_steering"
      ],
      "metadata": {
        "id": "TNdLpRpOnrAr"
      },
      "execution_count": null,
      "outputs": []
    },
    {
      "cell_type": "code",
      "source": [
        "X = []\n",
        "y = []\n",
        "\n",
        "# First two columns are speed and steering angle where are the output, aka y value\n",
        "# rest of columns are LiDAR data where are part of the input, aka X value\n",
        "for x in new_datasets:\n",
        "    X.append(x[:, 2:])\n",
        "    y.append(x[:, 0:2])"
      ],
      "metadata": {
        "id": "vccjXNqZge2n"
      },
      "execution_count": null,
      "outputs": []
    },
    {
      "cell_type": "code",
      "source": [
        "\"\"\"\n",
        "As you can see, different csv file has different size, which means different number of rows.\n",
        "However, the input matrix must have same shape in each instance (each csv file), for example 5000 * 1083\n",
        "So, we need to add values to those instance have less rows compare to the largest instance\n",
        "For example, if the largest instance is 5000 * 1083, and rest instances are x * 1083, where x is (0, 5000),\n",
        "Then, we add values to those instances to make all of them have 5000 * 1083 shape.\n",
        "The value need to be unique in the dataset, let's list data ranges in our new_datasets:\n",
        "  speed: [-1, 1]\n",
        "  steering angle: [-1, 1]\n",
        "  LiDAR: [0, 10]\n",
        "new_speed_steering:\n",
        "  Velocity_X: [-16, 16]\n",
        "  Steering_angle: [-0.192, 0.192]\n",
        "any value that not in the ranges is ok, such as -100.0\n",
        "All these can be done by using tensorflow.keras.preprocessing.sequence.pad_sequences()\n",
        "\"\"\""
      ],
      "metadata": {
        "id": "xjTe2zQKDWpg"
      },
      "execution_count": null,
      "outputs": []
    },
    {
      "cell_type": "code",
      "source": [
        "special_value = -100.0"
      ],
      "metadata": {
        "id": "lds_5E2QhIu2"
      },
      "execution_count": null,
      "outputs": []
    },
    {
      "cell_type": "code",
      "source": [
        "# Sidenote: here is the most out of memory failure happened place\n",
        "Xpad_A = tensorflow.keras.preprocessing.sequence.pad_sequences(\n",
        "    X, padding=\"post\", value=special_value\n",
        ")"
      ],
      "metadata": {
        "id": "bKOfIl6-JEgW"
      },
      "execution_count": null,
      "outputs": []
    },
    {
      "cell_type": "code",
      "source": [
        "ypad = tensorflow.keras.preprocessing.sequence.pad_sequences(\n",
        "    y, padding=\"post\", value=special_value\n",
        ")"
      ],
      "metadata": {
        "id": "l985mVrylk7H"
      },
      "execution_count": null,
      "outputs": []
    },
    {
      "cell_type": "code",
      "source": [
        "# free some memory\n",
        "datasets = []\n",
        "new_datasets = []\n",
        "X = []\n",
        "y = []\n",
        "gc.collect()"
      ],
      "metadata": {
        "id": "ceWJcXCoz6Lj"
      },
      "execution_count": null,
      "outputs": []
    },
    {
      "cell_type": "code",
      "source": [
        "Xpad_B = tensorflow.keras.preprocessing.sequence.pad_sequences(\n",
        "    new_speed_steering, padding=\"post\", value=special_value\n",
        ")"
      ],
      "metadata": {
        "id": "3s7e20TA1aWu"
      },
      "execution_count": null,
      "outputs": []
    },
    {
      "cell_type": "code",
      "source": [
        "speed_steering = []\n",
        "new_speed_steering = []\n",
        "gc.collect()"
      ],
      "metadata": {
        "id": "7cHpmYJ03J5A"
      },
      "execution_count": null,
      "outputs": []
    },
    {
      "cell_type": "code",
      "source": [
        "# starting with an Input layer, None means the length of each instance is varaible\n",
        "# but the number of columns is fixed, 1081\n",
        "inputA = Input(shape=(None, 1081))\n",
        "\n",
        "# Masking layer is to tell other layer that when see the special_value in the data, just ignore them\n",
        "# Padding and Masking usually used togather, \n",
        "# because special_value is useless, we don't want them have effects on the result\n",
        "A = Masking(input_shape=(None, 1081), mask_value=special_value)(inputA)\n",
        "\n",
        "# this Dense layer has similar effects to Embedding layer\n",
        "x = Dense(500, activation=\"relu\")(A)\n",
        "\n",
        "x = SimpleRNN(150, return_sequences=True, input_shape=(None, 1081))(x)\n",
        "\n",
        "\n",
        "# Second Input layer\n",
        "inputB = Input(shape=(None, 2))\n",
        "\n",
        "# Still need another Masking layer\n",
        "B = Masking(input_shape=(None, 2), mask_value=special_value)(inputB)\n",
        "\n",
        "# I will concatenate output from SimpleRNN and data from Xpad_B which is from car_state_blue csv files\n",
        "# In order to make sure data from two different files can be matched, \n",
        "# we need to make sure they are matched when reading the dataset\n",
        "# Otherwise it is impossible to sort them after read them as Dataframe\n",
        "# Here is the reason why I must read every csv files in sorted by name order\n",
        "# When I created the dataset, I used current Time as part of the file name\n",
        "# So, if we sort files by name, there will be no ambiguous, a newer csv can only after an older csv\n",
        "# Although the exact time that creating ML and car_state_blue file probably don't match, \n",
        "# their position in the csv file list definitely matched\n",
        "combined = concatenate([x, B], axis=2)\n",
        "\n",
        "z = Dense(256, activation=\"relu\")(combined)\n",
        "z = Dense(128, activation=\"relu\")(z)\n",
        "z = Dense(32, activation=\"tanh\")(z)\n",
        "z = Dense(2, activation=\"tanh\")(z)\n",
        "\n",
        "# build the model\n",
        "RNN_model = Model(inputs=[inputA, inputB], outputs=z)"
      ],
      "metadata": {
        "id": "o0Ol5sJtgp0i"
      },
      "execution_count": null,
      "outputs": []
    },
    {
      "cell_type": "code",
      "source": [
        "# OR, you can using an existing model\n",
        "# change the path or model name as you want\n",
        "RNN_model = load_model(\"/content/drive/MyDrive/models/model_RNN_x\")"
      ],
      "metadata": {
        "id": "IZsvOpai2HBb"
      },
      "execution_count": null,
      "outputs": []
    },
    {
      "cell_type": "code",
      "source": [
        "RNN_model.compile(loss=\"mean_squared_error\", optimizer=\"RMSprop\", metrics=['mean_squared_error'])\n",
        "\n",
        "RNN_model.summary()\n",
        "\n",
        "# shape of Xpad_A: [number of csv files, None, 1081]\n",
        "# shape of Xpad_B: [number of csv files, None, 2]\n",
        "# shape of ypad:   [number of csv files, None, 2]\n",
        "# epochs is how many iterations of all csv files, it depends on the dataset\n",
        "# like when you creating the model, you probably need larger number of epochs,\n",
        "# but when using an existing model, small number of epochs is enough,\n",
        "# Again, be aware of duration limit in Colab\n",
        "# batch_size means update the params after processing how many instances, \n",
        "#here, one instance is one csv file\n",
        "RNN_model.fit([Xpad_A, Xpad_B], ypad, epochs=10, batch_size=5)"
      ],
      "metadata": {
        "id": "4BVEOqXghYlh"
      },
      "execution_count": null,
      "outputs": []
    },
    {
      "cell_type": "code",
      "source": [
        "# change the path or model name as you want\n",
        "RNN_model.save(\"/content/drive/MyDrive/models/new_model_RNN_x\")"
      ],
      "metadata": {
        "id": "xQ_CdiAKvB6-"
      },
      "execution_count": null,
      "outputs": []
    },
    {
      "cell_type": "code",
      "source": [
        "\"\"\"\n",
        "you may ask, where is the model testing code? how would we evaluate the model?\n",
        "Well, since this is for autonomous racing, higher accuracy doesn't necessary means better behaviour in racing\n",
        "And our data is quite small tbh, so I decided to use all data as training data\n",
        "and put the model into the simulator to evaluate it, rather than split data into training and testing\n",
        "\"\"\""
      ],
      "metadata": {
        "id": "oYC4zaI4DKix"
      },
      "execution_count": null,
      "outputs": []
    }
  ]
}